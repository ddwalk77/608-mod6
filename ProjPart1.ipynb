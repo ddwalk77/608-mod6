{
 "cells": [
  {
   "cell_type": "markdown",
   "id": "935d2b2c-36b1-498d-97db-3e2d67935747",
   "metadata": {},
   "source": [
    "# Project Part 1 Submission - DeeDee Walker"
   ]
  },
  {
   "cell_type": "markdown",
   "id": "3aa3ff29-8b10-461c-ab7c-8a4932632a4d",
   "metadata": {},
   "source": [
    "### 9.12.3 Reading the Titanic Disaster Dataset - DeeDee Walker"
   ]
  },
  {
   "cell_type": "code",
   "execution_count": 1,
   "id": "cbd06b07-7042-4b37-a2c6-7a539ed009da",
   "metadata": {},
   "outputs": [],
   "source": [
    "import pandas as pd"
   ]
  },
  {
   "cell_type": "code",
   "execution_count": 2,
   "id": "1959a320-b889-40b3-83e9-56f4e0558aea",
   "metadata": {},
   "outputs": [],
   "source": [
    "titanic = pd.read_csv('https://vincentarelbundock.github.io/' +\n",
    "    'Rdatasets/csv/carData/TitanicSurvival.csv')"
   ]
  },
  {
   "cell_type": "markdown",
   "id": "d8588086-f6e3-4ec1-acf0-787dfd892d35",
   "metadata": {},
   "source": [
    "- loading URL representing a CSV datset into a DataFrame with read_csv"
   ]
  },
  {
   "cell_type": "code",
   "execution_count": 3,
   "id": "4ee3f6b4-e7c5-4159-b47a-08a19da83917",
   "metadata": {},
   "outputs": [],
   "source": [
    "pd.set_option('display.precision', 2)"
   ]
  },
  {
   "cell_type": "markdown",
   "id": "ab5db218-bdd0-4c2f-a2b0-e9f6eb39e5ea",
   "metadata": {},
   "source": [
    "- default DataFrame display shows the first 30 rows .... last 30 rows\n",
    "- We can save more space by setting the view with head and tail\n",
    "- We are setting the preciosn to 2 - formatting for float-point value"
   ]
  },
  {
   "cell_type": "code",
   "execution_count": 4,
   "id": "19d3ad97-9d17-4056-879d-ccf80f7489c7",
   "metadata": {},
   "outputs": [
    {
     "data": {
      "text/html": [
       "<div>\n",
       "<style scoped>\n",
       "    .dataframe tbody tr th:only-of-type {\n",
       "        vertical-align: middle;\n",
       "    }\n",
       "\n",
       "    .dataframe tbody tr th {\n",
       "        vertical-align: top;\n",
       "    }\n",
       "\n",
       "    .dataframe thead th {\n",
       "        text-align: right;\n",
       "    }\n",
       "</style>\n",
       "<table border=\"1\" class=\"dataframe\">\n",
       "  <thead>\n",
       "    <tr style=\"text-align: right;\">\n",
       "      <th></th>\n",
       "      <th>Unnamed: 0</th>\n",
       "      <th>survived</th>\n",
       "      <th>sex</th>\n",
       "      <th>age</th>\n",
       "      <th>passengerClass</th>\n",
       "    </tr>\n",
       "  </thead>\n",
       "  <tbody>\n",
       "    <tr>\n",
       "      <th>0</th>\n",
       "      <td>Allen, Miss. Elisabeth Walton</td>\n",
       "      <td>yes</td>\n",
       "      <td>female</td>\n",
       "      <td>29.00</td>\n",
       "      <td>1st</td>\n",
       "    </tr>\n",
       "    <tr>\n",
       "      <th>1</th>\n",
       "      <td>Allison, Master. Hudson Trevor</td>\n",
       "      <td>yes</td>\n",
       "      <td>male</td>\n",
       "      <td>0.92</td>\n",
       "      <td>1st</td>\n",
       "    </tr>\n",
       "    <tr>\n",
       "      <th>2</th>\n",
       "      <td>Allison, Miss. Helen Loraine</td>\n",
       "      <td>no</td>\n",
       "      <td>female</td>\n",
       "      <td>2.00</td>\n",
       "      <td>1st</td>\n",
       "    </tr>\n",
       "    <tr>\n",
       "      <th>3</th>\n",
       "      <td>Allison, Mr. Hudson Joshua Crei</td>\n",
       "      <td>no</td>\n",
       "      <td>male</td>\n",
       "      <td>30.00</td>\n",
       "      <td>1st</td>\n",
       "    </tr>\n",
       "    <tr>\n",
       "      <th>4</th>\n",
       "      <td>Allison, Mrs. Hudson J C (Bessi</td>\n",
       "      <td>no</td>\n",
       "      <td>female</td>\n",
       "      <td>25.00</td>\n",
       "      <td>1st</td>\n",
       "    </tr>\n",
       "  </tbody>\n",
       "</table>\n",
       "</div>"
      ],
      "text/plain": [
       "                        Unnamed: 0 survived     sex    age passengerClass\n",
       "0    Allen, Miss. Elisabeth Walton      yes  female  29.00            1st\n",
       "1   Allison, Master. Hudson Trevor      yes    male   0.92            1st\n",
       "2     Allison, Miss. Helen Loraine       no  female   2.00            1st\n",
       "3  Allison, Mr. Hudson Joshua Crei       no    male  30.00            1st\n",
       "4  Allison, Mrs. Hudson J C (Bessi       no  female  25.00            1st"
      ]
     },
     "execution_count": 4,
     "metadata": {},
     "output_type": "execute_result"
    }
   ],
   "source": [
    "titanic.head()"
   ]
  },
  {
   "cell_type": "code",
   "execution_count": 5,
   "id": "ebf2f83d-d1d4-4c25-81d9-00a2f5f5cd05",
   "metadata": {},
   "outputs": [
    {
     "data": {
      "text/html": [
       "<div>\n",
       "<style scoped>\n",
       "    .dataframe tbody tr th:only-of-type {\n",
       "        vertical-align: middle;\n",
       "    }\n",
       "\n",
       "    .dataframe tbody tr th {\n",
       "        vertical-align: top;\n",
       "    }\n",
       "\n",
       "    .dataframe thead th {\n",
       "        text-align: right;\n",
       "    }\n",
       "</style>\n",
       "<table border=\"1\" class=\"dataframe\">\n",
       "  <thead>\n",
       "    <tr style=\"text-align: right;\">\n",
       "      <th></th>\n",
       "      <th>Unnamed: 0</th>\n",
       "      <th>survived</th>\n",
       "      <th>sex</th>\n",
       "      <th>age</th>\n",
       "      <th>passengerClass</th>\n",
       "    </tr>\n",
       "  </thead>\n",
       "  <tbody>\n",
       "    <tr>\n",
       "      <th>1304</th>\n",
       "      <td>Zabour, Miss. Hileni</td>\n",
       "      <td>no</td>\n",
       "      <td>female</td>\n",
       "      <td>14.5</td>\n",
       "      <td>3rd</td>\n",
       "    </tr>\n",
       "    <tr>\n",
       "      <th>1305</th>\n",
       "      <td>Zabour, Miss. Thamine</td>\n",
       "      <td>no</td>\n",
       "      <td>female</td>\n",
       "      <td>NaN</td>\n",
       "      <td>3rd</td>\n",
       "    </tr>\n",
       "    <tr>\n",
       "      <th>1306</th>\n",
       "      <td>Zakarian, Mr. Mapriededer</td>\n",
       "      <td>no</td>\n",
       "      <td>male</td>\n",
       "      <td>26.5</td>\n",
       "      <td>3rd</td>\n",
       "    </tr>\n",
       "    <tr>\n",
       "      <th>1307</th>\n",
       "      <td>Zakarian, Mr. Ortin</td>\n",
       "      <td>no</td>\n",
       "      <td>male</td>\n",
       "      <td>27.0</td>\n",
       "      <td>3rd</td>\n",
       "    </tr>\n",
       "    <tr>\n",
       "      <th>1308</th>\n",
       "      <td>Zimmerman, Mr. Leo</td>\n",
       "      <td>no</td>\n",
       "      <td>male</td>\n",
       "      <td>29.0</td>\n",
       "      <td>3rd</td>\n",
       "    </tr>\n",
       "  </tbody>\n",
       "</table>\n",
       "</div>"
      ],
      "text/plain": [
       "                     Unnamed: 0 survived     sex   age passengerClass\n",
       "1304       Zabour, Miss. Hileni       no  female  14.5            3rd\n",
       "1305      Zabour, Miss. Thamine       no  female   NaN            3rd\n",
       "1306  Zakarian, Mr. Mapriededer       no    male  26.5            3rd\n",
       "1307        Zakarian, Mr. Ortin       no    male  27.0            3rd\n",
       "1308         Zimmerman, Mr. Leo       no    male  29.0            3rd"
      ]
     },
     "execution_count": 5,
     "metadata": {},
     "output_type": "execute_result"
    }
   ],
   "source": [
    "titanic.tail()"
   ]
  },
  {
   "cell_type": "markdown",
   "id": "64939bfd-38fa-40da-9cf7-40ae735048d6",
   "metadata": {},
   "source": [
    "DeeDee Walker\n",
    "- default DataFrame display shows the first 30 rows .... last 30 rows\n",
    "- We can save more space by setting the view with head and tail"
   ]
  },
  {
   "cell_type": "code",
   "execution_count": 6,
   "id": "48e2c7cd-bb35-438b-889d-08d55cf81a9f",
   "metadata": {},
   "outputs": [],
   "source": [
    "titanic.columns = ['name', 'survived', 'sex', 'age', 'class'] #customize column settings"
   ]
  },
  {
   "cell_type": "code",
   "execution_count": 7,
   "id": "d221271c-4638-4bcd-b1a5-97a6fdd5108f",
   "metadata": {},
   "outputs": [
    {
     "data": {
      "text/html": [
       "<div>\n",
       "<style scoped>\n",
       "    .dataframe tbody tr th:only-of-type {\n",
       "        vertical-align: middle;\n",
       "    }\n",
       "\n",
       "    .dataframe tbody tr th {\n",
       "        vertical-align: top;\n",
       "    }\n",
       "\n",
       "    .dataframe thead th {\n",
       "        text-align: right;\n",
       "    }\n",
       "</style>\n",
       "<table border=\"1\" class=\"dataframe\">\n",
       "  <thead>\n",
       "    <tr style=\"text-align: right;\">\n",
       "      <th></th>\n",
       "      <th>name</th>\n",
       "      <th>survived</th>\n",
       "      <th>sex</th>\n",
       "      <th>age</th>\n",
       "      <th>class</th>\n",
       "    </tr>\n",
       "  </thead>\n",
       "  <tbody>\n",
       "    <tr>\n",
       "      <th>0</th>\n",
       "      <td>Allen, Miss. Elisabeth Walton</td>\n",
       "      <td>yes</td>\n",
       "      <td>female</td>\n",
       "      <td>29.00</td>\n",
       "      <td>1st</td>\n",
       "    </tr>\n",
       "    <tr>\n",
       "      <th>1</th>\n",
       "      <td>Allison, Master. Hudson Trevor</td>\n",
       "      <td>yes</td>\n",
       "      <td>male</td>\n",
       "      <td>0.92</td>\n",
       "      <td>1st</td>\n",
       "    </tr>\n",
       "    <tr>\n",
       "      <th>2</th>\n",
       "      <td>Allison, Miss. Helen Loraine</td>\n",
       "      <td>no</td>\n",
       "      <td>female</td>\n",
       "      <td>2.00</td>\n",
       "      <td>1st</td>\n",
       "    </tr>\n",
       "    <tr>\n",
       "      <th>3</th>\n",
       "      <td>Allison, Mr. Hudson Joshua Crei</td>\n",
       "      <td>no</td>\n",
       "      <td>male</td>\n",
       "      <td>30.00</td>\n",
       "      <td>1st</td>\n",
       "    </tr>\n",
       "    <tr>\n",
       "      <th>4</th>\n",
       "      <td>Allison, Mrs. Hudson J C (Bessi</td>\n",
       "      <td>no</td>\n",
       "      <td>female</td>\n",
       "      <td>25.00</td>\n",
       "      <td>1st</td>\n",
       "    </tr>\n",
       "  </tbody>\n",
       "</table>\n",
       "</div>"
      ],
      "text/plain": [
       "                              name survived     sex    age class\n",
       "0    Allen, Miss. Elisabeth Walton      yes  female  29.00   1st\n",
       "1   Allison, Master. Hudson Trevor      yes    male   0.92   1st\n",
       "2     Allison, Miss. Helen Loraine       no  female   2.00   1st\n",
       "3  Allison, Mr. Hudson Joshua Crei       no    male  30.00   1st\n",
       "4  Allison, Mrs. Hudson J C (Bessi       no  female  25.00   1st"
      ]
     },
     "execution_count": 7,
     "metadata": {},
     "output_type": "execute_result"
    }
   ],
   "source": [
    "titanic.head() #check the new column settings"
   ]
  },
  {
   "cell_type": "markdown",
   "id": "28bee6dc-6a5d-4f44-9d3d-6989f30471f0",
   "metadata": {},
   "source": [
    "### 9.12.4 Simple Data Analysis with the Titanic Disaster Dataset - DeeDee Walker"
   ]
  },
  {
   "cell_type": "code",
   "execution_count": 8,
   "id": "37bbf88c-873d-4508-929c-1ea0bcb35826",
   "metadata": {},
   "outputs": [
    {
     "data": {
      "text/html": [
       "<div>\n",
       "<style scoped>\n",
       "    .dataframe tbody tr th:only-of-type {\n",
       "        vertical-align: middle;\n",
       "    }\n",
       "\n",
       "    .dataframe tbody tr th {\n",
       "        vertical-align: top;\n",
       "    }\n",
       "\n",
       "    .dataframe thead th {\n",
       "        text-align: right;\n",
       "    }\n",
       "</style>\n",
       "<table border=\"1\" class=\"dataframe\">\n",
       "  <thead>\n",
       "    <tr style=\"text-align: right;\">\n",
       "      <th></th>\n",
       "      <th>age</th>\n",
       "    </tr>\n",
       "  </thead>\n",
       "  <tbody>\n",
       "    <tr>\n",
       "      <th>count</th>\n",
       "      <td>1046.00</td>\n",
       "    </tr>\n",
       "    <tr>\n",
       "      <th>mean</th>\n",
       "      <td>29.88</td>\n",
       "    </tr>\n",
       "    <tr>\n",
       "      <th>std</th>\n",
       "      <td>14.41</td>\n",
       "    </tr>\n",
       "    <tr>\n",
       "      <th>min</th>\n",
       "      <td>0.17</td>\n",
       "    </tr>\n",
       "    <tr>\n",
       "      <th>25%</th>\n",
       "      <td>21.00</td>\n",
       "    </tr>\n",
       "    <tr>\n",
       "      <th>50%</th>\n",
       "      <td>28.00</td>\n",
       "    </tr>\n",
       "    <tr>\n",
       "      <th>75%</th>\n",
       "      <td>39.00</td>\n",
       "    </tr>\n",
       "    <tr>\n",
       "      <th>max</th>\n",
       "      <td>80.00</td>\n",
       "    </tr>\n",
       "  </tbody>\n",
       "</table>\n",
       "</div>"
      ],
      "text/plain": [
       "           age\n",
       "count  1046.00\n",
       "mean     29.88\n",
       "std      14.41\n",
       "min       0.17\n",
       "25%      21.00\n",
       "50%      28.00\n",
       "75%      39.00\n",
       "max      80.00"
      ]
     },
     "execution_count": 8,
     "metadata": {},
     "output_type": "execute_result"
    }
   ],
   "source": [
    "titanic.describe() #view descriptive statistics of the DataFrame numeric columns"
   ]
  },
  {
   "cell_type": "code",
   "execution_count": 9,
   "id": "731f8d0a-5795-4b7c-950c-1aadd9b51555",
   "metadata": {},
   "outputs": [
    {
     "data": {
      "text/plain": [
       "count      1309\n",
       "unique        2\n",
       "top       False\n",
       "freq        809\n",
       "Name: survived, dtype: object"
      ]
     },
     "execution_count": 9,
     "metadata": {},
     "output_type": "execute_result"
    }
   ],
   "source": [
    "(titanic.survived == 'yes').describe() #view statistics on survivors only"
   ]
  },
  {
   "cell_type": "markdown",
   "id": "05c55673-7eea-4d49-b97d-0bad980798fa",
   "metadata": {},
   "source": [
    "### 9.12.5 Passenger Age Histogram - DeeDee Walker"
   ]
  },
  {
   "cell_type": "code",
   "execution_count": 10,
   "id": "15b5ad5a-66f7-4277-9be2-3341199202ee",
   "metadata": {},
   "outputs": [],
   "source": [
    "%matplotlib widget"
   ]
  },
  {
   "cell_type": "markdown",
   "id": "f68ab3ba-27e9-49e7-be8b-b7d470b01eca",
   "metadata": {},
   "source": [
    " - have to use widget in jupyter lab"
   ]
  },
  {
   "cell_type": "code",
   "execution_count": 11,
   "id": "2281cd90-a9e6-4dd9-9254-4bd0874e67ab",
   "metadata": {},
   "outputs": [
    {
     "data": {
      "application/vnd.jupyter.widget-view+json": {
       "model_id": "68af5b7b5bf24e3ba8af122a472da665",
       "version_major": 2,
       "version_minor": 0
      },
      "image/png": "[encoded data removed]",
      "text/html": [
       "\n",
       "            <div style=\"display: inline-block;\">\n",
       "                <div class=\"jupyter-widgets widget-label\" style=\"text-align: center;\">\n",
       "                    Figure\n",
       "                </div>\n",
       "                <img src='data:image/png;base64,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' width=640.0/>\n",
       "            </div>\n",
       "        "
      ],
      "text/plain": [
       "Canvas(toolbar=Toolbar(toolitems=[('Home', 'Reset original view', 'home', 'home'), ('Back', 'Back to previous …"
      ]
     },
     "metadata": {},
     "output_type": "display_data"
    }
   ],
   "source": [
    "histogram = titanic.hist()"
   ]
  }
 ],
 "metadata": {
  "kernelspec": {
   "display_name": "Python 3 (ipykernel)",
   "language": "python",
   "name": "python3"
  },
  "language_info": {
   "codemirror_mode": {
    "name": "ipython",
    "version": 3
   },
   "file_extension": ".py",
   "mimetype": "text/x-python",
   "name": "python",
   "nbconvert_exporter": "python",
   "pygments_lexer": "ipython3",
   "version": "3.9.12"
  }
 },
 "nbformat": 4,
 "nbformat_minor": 5
}
