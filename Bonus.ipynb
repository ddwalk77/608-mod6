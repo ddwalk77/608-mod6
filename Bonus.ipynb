{
 "cells": [
  {
   "cell_type": "markdown",
   "id": "ddb84b4f-2f07-4f7f-9883-5e6af2d18bad",
   "metadata": {},
   "source": [
    "# Bonus - DeeDee Walker"
   ]
  },
  {
   "cell_type": "markdown",
   "id": "223db772-98d7-46b9-a0d1-db4018e63c3c",
   "metadata": {},
   "source": [
    "Use pandas to import a new, unique csv dataset into a DataFrame.\n",
    "Use the DataFrame commands to clean the data as needed and/or rename the columns.\n",
    "Use the DataFrame describe() function to calculate basic descriptive statistics. \n",
    "Use the DataFrame hist() function to generate histograms for the numeric columns. "
   ]
  },
  {
   "cell_type": "code",
   "execution_count": null,
   "id": "deb9e37d-4a7d-44b8-91d9-93af3fd217c2",
   "metadata": {},
   "outputs": [],
   "source": [
    "import pandas as pd"
   ]
  },
  {
   "cell_type": "code",
   "execution_count": null,
   "id": "ca16f304-4a53-45b8-9ba0-deb688f84947",
   "metadata": {},
   "outputs": [],
   "source": [
    "restaurant = pd.read.csv('https://data.sfgov.org/api/odata/v4/pyih-qa8i') #change this after loading data to github"
   ]
  },
  {
   "cell_type": "code",
   "execution_count": null,
   "id": "870ab5f0-e245-49c9-9700-b5054a9b245b",
   "metadata": {},
   "outputs": [],
   "source": [
    "restaurant.head()"
   ]
  },
  {
   "cell_type": "code",
   "execution_count": null,
   "id": "d682d729-a348-4ab2-8aec-b5e935eea80d",
   "metadata": {},
   "outputs": [],
   "source": [
    "import re"
   ]
  },
  {
   "cell_type": "code",
   "execution_count": null,
   "id": "4fee1adb-772f-42fe-befc-79d619d00ca5",
   "metadata": {},
   "outputs": [],
   "source": [
    "def get_formatted_phone(value):\n",
    "    result = re.fullmatch(r'(\\d{3})(\\d{3})(\\d{4})', value)\n",
    "    return '-'.join(result.groups()) if result else value"
   ]
  },
  {
   "cell_type": "code",
   "execution_count": null,
   "id": "913079c2-78c5-4eeb-8281-71c812b8aa1d",
   "metadata": {},
   "outputs": [],
   "source": [
    "formatted_phone = restaurant['business_phone_number'].map(get_formatted_phone)"
   ]
  },
  {
   "cell_type": "code",
   "execution_count": null,
   "id": "779539b7-2952-4b66-aa4d-b5199667d98b",
   "metadata": {},
   "outputs": [],
   "source": [
    "formatted_phone #need to limit this return - once confirmed corrected then can load"
   ]
  },
  {
   "cell_type": "code",
   "execution_count": null,
   "id": "4886c1cb-a989-4449-94c2-eb7ee151d1ca",
   "metadata": {},
   "outputs": [],
   "source": [
    "restaurant['business_phone_number'] = formatted_phone"
   ]
  },
  {
   "cell_type": "code",
   "execution_count": null,
   "id": "727e1dcf-a591-41f5-bcd2-65a5764257d3",
   "metadata": {},
   "outputs": [],
   "source": [
    "restaurant.head() #to check if the phone # was loaded"
   ]
  },
  {
   "cell_type": "markdown",
   "id": "fc03c972-1ec2-4d92-b4cf-b6ae255a09ad",
   "metadata": {},
   "source": [
    "change inspection_date to standard date w/out time"
   ]
  },
  {
   "cell_type": "code",
   "execution_count": null,
   "id": "71135ea3-1dfd-46b6-b59a-2a2ae4aca7cb",
   "metadata": {},
   "outputs": [],
   "source": [
    "restaurant.describe()"
   ]
  },
  {
   "cell_type": "code",
   "execution_count": null,
   "id": "1af58f2d-5a9a-459c-b8ad-b0e4ebf225b7",
   "metadata": {},
   "outputs": [],
   "source": [
    "%matplotlib widget"
   ]
  },
  {
   "cell_type": "code",
   "execution_count": null,
   "id": "6168d5b5-7794-4c8f-97b0-2ff38ca1066d",
   "metadata": {},
   "outputs": [],
   "source": [
    "histogram = restaurant.hist()"
   ]
  }
 ],
 "metadata": {
  "kernelspec": {
   "display_name": "Python 3 (ipykernel)",
   "language": "python",
   "name": "python3"
  },
  "language_info": {
   "codemirror_mode": {
    "name": "ipython",
    "version": 3
   },
   "file_extension": ".py",
   "mimetype": "text/x-python",
   "name": "python",
   "nbconvert_exporter": "python",
   "pygments_lexer": "ipython3",
   "version": "3.9.12"
  }
 },
 "nbformat": 4,
 "nbformat_minor": 5
}
