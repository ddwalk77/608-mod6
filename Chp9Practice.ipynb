{
 "cells": [
  {
   "cell_type": "markdown",
   "id": "e2d96258-709f-450c-a6b1-6294da0dfba2",
   "metadata": {},
   "source": [
    "# Chapter 9 Practice DeeDee Walker"
   ]
  },
  {
   "cell_type": "markdown",
   "id": "4c9b9135-6c26-4118-b84a-e24cd809a024",
   "metadata": {},
   "source": [
    "##### 9.3.1 - Write to a text file"
   ]
  },
  {
   "cell_type": "code",
   "execution_count": 2,
   "id": "c2412aef-bfec-4cb2-b06a-316c54aaa4aa",
   "metadata": {},
   "outputs": [],
   "source": [
    "with open('accounts.txt', mode='w') as accounts:\n",
    "    accounts.write('100 Jones 24.98\\n')\n",
    "    accounts.write('200 Doe 345.67\\n')\n",
    "    accounts.write('300 White 0.00\\n')\n",
    "    accounts.write('400 Stone -42.16\\n')\n",
    "    accounts.write('500 Rich 224.62\\n') "
   ]
  },
  {
   "cell_type": "markdown",
   "id": "5cf8f2d6-6e16-4722-a87c-813683a44cb0",
   "metadata": {},
   "source": [
    "###### 9.3.1 Self Check - DeeDee Walker"
   ]
  },
  {
   "cell_type": "code",
   "execution_count": 3,
   "id": "044529e5-d145-47d9-8c9d-5e7f175c94ec",
   "metadata": {},
   "outputs": [],
   "source": [
    "with open('grades.txt', mode='w') as grades:\n",
    "    grades.write('1 Red A\\n')\n",
    "    grades.write('2 Green B\\n')\n",
    "    grades.write('3 White A\\n')"
   ]
  },
  {
   "cell_type": "markdown",
   "id": "637380b5-ebd3-4070-b285-bee69243da75",
   "metadata": {},
   "source": [
    "##### 9.3.2 Read text file"
   ]
  },
  {
   "cell_type": "code",
   "execution_count": 4,
   "id": "2e5b44b0-b5c5-4ab3-afe5-143abe25baff",
   "metadata": {},
   "outputs": [
    {
     "name": "stdout",
     "output_type": "stream",
     "text": [
      "Account   Name         Balance\n",
      "100       Jones          24.98\n",
      "200       Doe           345.67\n",
      "300       White           0.00\n",
      "400       Stone         -42.16\n",
      "500       Rich          224.62\n"
     ]
    }
   ],
   "source": [
    "with open('accounts.txt', mode='r') as accounts:\n",
    "    print(f'{\"Account\":<10}{\"Name\":<10}{\"Balance\":>10}')\n",
    "    for record in accounts:\n",
    "        account, name, balance = record.split()\n",
    "        print(f'{account:<10}{name:<10}{balance:>10}')"
   ]
  },
  {
   "cell_type": "markdown",
   "id": "a349fb8e-4fb3-4f13-92e2-9247d99b00b8",
   "metadata": {},
   "source": [
    "###### 9.3.2 Self Check - DeeDee Walker"
   ]
  },
  {
   "cell_type": "code",
   "execution_count": 5,
   "id": "d58fe741-700e-4d44-80f4-bc7b5253e4a4",
   "metadata": {},
   "outputs": [
    {
     "name": "stdout",
     "output_type": "stream",
     "text": [
      "ID  Name   Grade\n",
      "1   Red             A\n",
      "2   Green           B\n",
      "3   White           A\n"
     ]
    }
   ],
   "source": [
    "with open('grades.txt', mode='r') as grades:\n",
    "    print(f'{\"ID\":<4}{\"Name\":<7}{\"Grade\"}')\n",
    "    for record in grades:\n",
    "        student_id, name, grade = record.split()\n",
    "        print(f'{student_id:<4}{name:<7}{grade:>10}')"
   ]
  },
  {
   "cell_type": "markdown",
   "id": "bdd09dae-5f96-4ed5-8f23-f072d90e8d62",
   "metadata": {},
   "source": [
    "##### 9.4 Updating text files"
   ]
  },
  {
   "cell_type": "code",
   "execution_count": 1,
   "id": "aad627da-db22-4721-a15d-653e25fab5cd",
   "metadata": {},
   "outputs": [],
   "source": [
    "accounts = open('accounts.txt', 'r')"
   ]
  },
  {
   "cell_type": "code",
   "execution_count": 2,
   "id": "93bb09c5-6310-41f9-a8e8-2fe97744e95c",
   "metadata": {},
   "outputs": [],
   "source": [
    "temp_file = open('temp_file.txt', 'w')"
   ]
  },
  {
   "cell_type": "code",
   "execution_count": 3,
   "id": "9011ba5c-8e25-4ae9-97ab-b20afbe76b91",
   "metadata": {},
   "outputs": [],
   "source": [
    "with accounts, temp_file:\n",
    "    for record in accounts:\n",
    "        account, name, balance = record.split() #copy the records not 300 White 0.00 into temp file\n",
    "        if account != '300':\n",
    "            temp_file.write(record)\n",
    "        else:\n",
    "            new_record = ' '.join([account, 'Williams', balance]) #write updated & correctly formatted record for account 300 to temp file\n",
    "            temp_file.write(new_record + '\\n')"
   ]
  },
  {
   "cell_type": "code",
   "execution_count": 4,
   "id": "2d6c1576-2836-448a-9894-f3e289ef710d",
   "metadata": {},
   "outputs": [],
   "source": [
    "# os Module file processing\n",
    "import os"
   ]
  },
  {
   "cell_type": "code",
   "execution_count": 5,
   "id": "31242639-1304-445e-a921-c2c5346cfd88",
   "metadata": {},
   "outputs": [],
   "source": [
    "os.remove('accounts.txt') #delete accounts file"
   ]
  },
  {
   "cell_type": "code",
   "execution_count": 6,
   "id": "117067c6-6914-440a-8dc7-6e24594f2851",
   "metadata": {},
   "outputs": [],
   "source": [
    "os.rename('temp_file.txt', 'accounts.txt') # rename temp file to accounts"
   ]
  },
  {
   "cell_type": "code",
   "execution_count": 7,
   "id": "2ecbad8c-8de6-4e5a-8416-c51c161957a4",
   "metadata": {},
   "outputs": [
    {
     "name": "stdout",
     "output_type": "stream",
     "text": [
      "100 Jones 24.98\n",
      "200 Doe 345.67\n",
      "300 Williams 0.00\n",
      "400 Stone -42.16\n",
      "500 Rich 224.62\n"
     ]
    }
   ],
   "source": [
    "# Windows Users: View file contents\n",
    "!more accounts.txt"
   ]
  },
  {
   "cell_type": "markdown",
   "id": "bc86a0e7-09be-4279-869f-9602354f6f88",
   "metadata": {},
   "source": [
    "###### 9.4 Self Check - DeeDee Walker"
   ]
  },
  {
   "cell_type": "code",
   "execution_count": 8,
   "id": "f510239b-f441-47f2-af06-ce323c4716fe",
   "metadata": {},
   "outputs": [],
   "source": [
    "accounts = open('accounts.txt', 'r')"
   ]
  },
  {
   "cell_type": "code",
   "execution_count": 9,
   "id": "8c85f33f-ae57-45f5-9dec-b05489bb384e",
   "metadata": {},
   "outputs": [],
   "source": [
    "temp_file = open('temp_file.txt', 'w')"
   ]
  },
  {
   "cell_type": "code",
   "execution_count": 10,
   "id": "fb82e0e2-89ec-4c9a-9815-30844102fa15",
   "metadata": {},
   "outputs": [],
   "source": [
    "with accounts, temp_file:\n",
    "    for record in accounts:\n",
    "        account, name, balance = record.split()\n",
    "        if account != '200':\n",
    "            temp_file.write(record)\n",
    "        else:\n",
    "            new_record = ' '.join([account, 'Smith', balance])\n",
    "            temp_file.write(new_record + '\\n')"
   ]
  },
  {
   "cell_type": "code",
   "execution_count": 11,
   "id": "a12383aa-18f2-4f67-ba9f-06ca1dff1952",
   "metadata": {},
   "outputs": [],
   "source": [
    "import os"
   ]
  },
  {
   "cell_type": "code",
   "execution_count": 12,
   "id": "48843bbd-6d6b-4053-9968-68e3bbbb2e52",
   "metadata": {},
   "outputs": [],
   "source": [
    "os.remove('accounts.txt') "
   ]
  },
  {
   "cell_type": "code",
   "execution_count": 13,
   "id": "90418a4b-630c-4260-9db5-b3bc7079d92d",
   "metadata": {},
   "outputs": [],
   "source": [
    "os.rename('temp_file.txt', 'accounts.txt')"
   ]
  },
  {
   "cell_type": "code",
   "execution_count": 14,
   "id": "322e66b4-a8ef-437e-bec8-b37940303ca1",
   "metadata": {},
   "outputs": [
    {
     "name": "stdout",
     "output_type": "stream",
     "text": [
      "100 Jones 24.98\n",
      "200 Smith 345.67\n",
      "300 Williams 0.00\n",
      "400 Stone -42.16\n",
      "500 Rich 224.62\n"
     ]
    }
   ],
   "source": [
    "!more accounts.txt"
   ]
  },
  {
   "cell_type": "code",
   "execution_count": 15,
   "id": "0ebc7fe0-be4c-4a8e-8e65-83c00e89a2ee",
   "metadata": {},
   "outputs": [],
   "source": [
    "#Option 2 code (#use doe instead of 200)\n",
    "\n",
    "#with accounts, temp_file:\n",
    "    #for record in accounts:\n",
    "        #account, name, balance = record.split()\n",
    "        #if name != 'Doe': \n",
    "            #temp_file.write(record)\n",
    "        #else:\n",
    "            #new_record = ' '.join([account, 'Smith', balance])\n",
    "            #temp_file.write(new_record + '\\n')"
   ]
  },
  {
   "cell_type": "markdown",
   "id": "b4d79ff7-f076-421e-b239-cc2a42a8912b",
   "metadata": {},
   "source": [
    "##### 9.5 Serialization with JSON - DeeDee Walker"
   ]
  },
  {
   "cell_type": "code",
   "execution_count": 1,
   "id": "fca57e7b-3c93-4299-8d9a-ca2649880b4f",
   "metadata": {},
   "outputs": [],
   "source": [
    "# Python Standard Library Module `json` \n",
    "accounts_dict = {'accounts': [\n",
    "    {'account': 100, 'name': 'Jones', 'balance': 24.98},\n",
    "    {'account': 200, 'name': 'Doe', 'balance': 345.67}]}"
   ]
  },
  {
   "cell_type": "code",
   "execution_count": 2,
   "id": "87435c30-b17d-4747-af11-dbe3fda10516",
   "metadata": {},
   "outputs": [],
   "source": [
    "# Serializing an Object to JSON\n",
    "import json"
   ]
  },
  {
   "cell_type": "code",
   "execution_count": 3,
   "id": "9ad06635-5398-475e-a195-2adcfb68b839",
   "metadata": {},
   "outputs": [],
   "source": [
    "with open('accounts.json', 'w') as accounts:\n",
    "    json.dump(accounts_dict, accounts) #open the file accounts.json & uses the json module's dump function to serialize the dictionary accounts_dict into the file"
   ]
  },
  {
   "cell_type": "code",
   "execution_count": 4,
   "id": "9b714ce5-4848-44da-afd1-bae175036158",
   "metadata": {},
   "outputs": [],
   "source": [
    "# Deserializing the JSON Text\n",
    "with open('accounts.json', 'r') as accounts:\n",
    "    accounts_json = json.load(accounts) #json load function reads the entire JSON contents of its file object argument and converts the JSON into a Python object, known as deserializing the data."
   ]
  },
  {
   "cell_type": "code",
   "execution_count": 5,
   "id": "9877eaf7-cb6e-4410-b1c6-6404a9c33ffc",
   "metadata": {},
   "outputs": [
    {
     "data": {
      "text/plain": [
       "{'accounts': [{'account': 100, 'name': 'Jones', 'balance': 24.98},\n",
       "  {'account': 200, 'name': 'Doe', 'balance': 345.67}]}"
      ]
     },
     "execution_count": 5,
     "metadata": {},
     "output_type": "execute_result"
    }
   ],
   "source": [
    "accounts_json #can interact with the loaded object"
   ]
  },
  {
   "cell_type": "code",
   "execution_count": 6,
   "id": "ed507d33-900f-4e3e-b811-d31e0bb1a7f1",
   "metadata": {},
   "outputs": [
    {
     "data": {
      "text/plain": [
       "[{'account': 100, 'name': 'Jones', 'balance': 24.98},\n",
       " {'account': 200, 'name': 'Doe', 'balance': 345.67}]"
      ]
     },
     "execution_count": 6,
     "metadata": {},
     "output_type": "execute_result"
    }
   ],
   "source": [
    "accounts_json['accounts'] #can access the dictionary's contents"
   ]
  },
  {
   "cell_type": "code",
   "execution_count": 7,
   "id": "348413b0-bd3c-44da-855c-3eec7187cf70",
   "metadata": {},
   "outputs": [
    {
     "data": {
      "text/plain": [
       "{'account': 100, 'name': 'Jones', 'balance': 24.98}"
      ]
     },
     "execution_count": 7,
     "metadata": {},
     "output_type": "execute_result"
    }
   ],
   "source": [
    "accounts_json['accounts'][0] #access individual account dicionaries"
   ]
  },
  {
   "cell_type": "code",
   "execution_count": 8,
   "id": "1928ab6b-41ea-494b-911f-5f2b10988ee5",
   "metadata": {},
   "outputs": [
    {
     "data": {
      "text/plain": [
       "{'account': 200, 'name': 'Doe', 'balance': 345.67}"
      ]
     },
     "execution_count": 8,
     "metadata": {},
     "output_type": "execute_result"
    }
   ],
   "source": [
    "accounts_json['accounts'][1]"
   ]
  },
  {
   "cell_type": "code",
   "execution_count": 9,
   "id": "732d92ce-b548-4ca4-af4b-2d25091673f3",
   "metadata": {},
   "outputs": [
    {
     "name": "stdout",
     "output_type": "stream",
     "text": [
      "{\n",
      "    \"accounts\": [\n",
      "        {\n",
      "            \"account\": 100,\n",
      "            \"name\": \"Jones\",\n",
      "            \"balance\": 24.98\n",
      "        },\n",
      "        {\n",
      "            \"account\": 200,\n",
      "            \"name\": \"Doe\",\n",
      "            \"balance\": 345.67\n",
      "        }\n",
      "    ]\n",
      "}\n"
     ]
    }
   ],
   "source": [
    "# Displaying the JSON Text\n",
    "with open('accounts.json', 'r') as accounts:\n",
    "    print(json.dumps(json.load(accounts), indent=4)) #pretty printing - dumps returns a Python string representation of an object in JSON format. Using dumps with load, you can read the JSON from the \n",
    "    #file. When dumps function call includes the indent keyword argument, the sting contains newline characters and indentation"
   ]
  },
  {
   "cell_type": "markdown",
   "id": "4d80b9a7-1c72-495b-a987-e1177f169d2e",
   "metadata": {},
   "source": [
    "###### 9.5 Self Check - DeeDee Walker"
   ]
  },
  {
   "cell_type": "code",
   "execution_count": 10,
   "id": "ef4540ea-1a3f-49dc-bbb8-32d2c620174e",
   "metadata": {},
   "outputs": [],
   "source": [
    "import json"
   ]
  },
  {
   "cell_type": "code",
   "execution_count": 11,
   "id": "019219aa-c395-4b57-9ddc-382a2794ad86",
   "metadata": {},
   "outputs": [],
   "source": [
    "grades_dict = {'gradebook': \n",
    "    [{'student_id': 1, 'name': 'Red', 'grade': 'A'},\n",
    "     {'student_id': 2, 'name': 'Green', 'grade': 'B'},\n",
    "     {'student_id': 3, 'name': 'White', 'grade': 'A'}]}  "
   ]
  },
  {
   "cell_type": "code",
   "execution_count": 12,
   "id": "03721036-d2d1-481c-ae85-da685a41cb21",
   "metadata": {},
   "outputs": [],
   "source": [
    "with open('grades.json', 'w') as grades:\n",
    "    json.dump(grades_dict, grades)"
   ]
  },
  {
   "cell_type": "code",
   "execution_count": 13,
   "id": "13dedcb8-f8db-4942-a7d1-3e063726b105",
   "metadata": {},
   "outputs": [
    {
     "name": "stdout",
     "output_type": "stream",
     "text": [
      "{\n",
      "    \"gradebook\": [\n",
      "        {\n",
      "            \"student_id\": 1,\n",
      "            \"name\": \"Red\",\n",
      "            \"grade\": \"A\"\n",
      "        },\n",
      "        {\n",
      "            \"student_id\": 2,\n",
      "            \"name\": \"Green\",\n",
      "            \"grade\": \"B\"\n",
      "        },\n",
      "        {\n",
      "            \"student_id\": 3,\n",
      "            \"name\": \"White\",\n",
      "            \"grade\": \"A\"\n",
      "        }\n",
      "    ]\n",
      "}\n"
     ]
    }
   ],
   "source": [
    "with open('grades.json', 'r') as grades:\n",
    "    print(json.dumps(json.load(grades), indent=4))"
   ]
  },
  {
   "cell_type": "markdown",
   "id": "4ecbc385-981e-4dd3-abf2-df4161d3c85b",
   "metadata": {},
   "source": [
    "##### 9.8.2 try statements DeeDee Walker"
   ]
  },
  {
   "cell_type": "code",
   "execution_count": 15,
   "id": "5d8c450c-9dc8-4518-9c29-05dbb743a6df",
   "metadata": {},
   "outputs": [
    {
     "name": "stdin",
     "output_type": "stream",
     "text": [
      "Enter numerator:  6\n",
      "Enter denominator:  0\n"
     ]
    },
    {
     "name": "stdout",
     "output_type": "stream",
     "text": [
      "Attempted to divide by zero\n",
      "\n"
     ]
    },
    {
     "name": "stdin",
     "output_type": "stream",
     "text": [
      "Enter numerator:  hello\n"
     ]
    },
    {
     "name": "stdout",
     "output_type": "stream",
     "text": [
      "You must enter two integers\n",
      "\n"
     ]
    },
    {
     "name": "stdin",
     "output_type": "stream",
     "text": [
      "Enter numerator:  5\n",
      "Enter denominator:  5\n"
     ]
    },
    {
     "name": "stdout",
     "output_type": "stream",
     "text": [
      "5.000 / 5.000 = 1.000\n"
     ]
    }
   ],
   "source": [
    "# dividebyzero.py\n",
    "\"\"\"Simple exception handling example.\"\"\"\n",
    "\n",
    "while True:\n",
    "    # attempt to convert and divide values\n",
    "    try:\n",
    "        number1 = int(input('Enter numerator: '))\n",
    "        number2 = int(input('Enter denominator: '))\n",
    "        result = number1 / number2\n",
    "    except ValueError:  # tried to convert non-numeric value to int\n",
    "        print('You must enter two integers\\n')\n",
    "    except ZeroDivisionError:  # denominator was 0\n",
    "        print('Attempted to divide by zero\\n')\n",
    "    else:  # executes only if no exceptions occur\n",
    "        print(f'{number1:.3f} / {number2:.3f} = {result:.3f}')\n",
    "        break  # terminate the loop"
   ]
  },
  {
   "cell_type": "markdown",
   "id": "698a602a-67c5-45c9-8585-2d151336780f",
   "metadata": {},
   "source": [
    "###### 9.8.2 Self Check DeeDee Walker"
   ]
  },
  {
   "cell_type": "code",
   "execution_count": 20,
   "id": "2c9e1e43-d8cb-4b6b-9317-16ee49bc6c67",
   "metadata": {},
   "outputs": [],
   "source": [
    "def try_it(value):\n",
    "    try:\n",
    "        x = int(value)\n",
    "    except ValueError:\n",
    "        print(f'{value} could not be converted to an integer')\n",
    "    else:\n",
    "        print(f'int({value}) is {x}')"
   ]
  },
  {
   "cell_type": "code",
   "execution_count": 21,
   "id": "45ac8051-8494-4662-8cde-76ae7d95feee",
   "metadata": {},
   "outputs": [
    {
     "name": "stdout",
     "output_type": "stream",
     "text": [
      "int(10.7) is 10\n"
     ]
    }
   ],
   "source": [
    "try_it(10.7)"
   ]
  },
  {
   "cell_type": "code",
   "execution_count": 22,
   "id": "47d5cb4e-222c-4a12-a868-b065ebdbde2f",
   "metadata": {},
   "outputs": [
    {
     "name": "stdout",
     "output_type": "stream",
     "text": [
      "Python could not be converted to an integer\n"
     ]
    }
   ],
   "source": [
    "try_it('Python')"
   ]
  },
  {
   "cell_type": "markdown",
   "id": "b6204fd3-180c-46f7-b73d-1ff4e9dcbdb3",
   "metadata": {},
   "source": [
    "##### 9.9 finally clause DeeDee Walker"
   ]
  },
  {
   "cell_type": "code",
   "execution_count": 23,
   "id": "72ab6ae8-42d3-40ed-a3d7-1ef20bf35b4b",
   "metadata": {},
   "outputs": [
    {
     "name": "stdout",
     "output_type": "stream",
     "text": [
      "try suite with no exceptions raised\n",
      "else executes because no exceptions in the try suite\n",
      "finally always executes\n"
     ]
    }
   ],
   "source": [
    "try:\n",
    "    print('try suite with no exceptions raised')\n",
    "except:\n",
    "    print('this will not execute')\n",
    "else:\n",
    "    print('else executes because no exceptions in the try suite')\n",
    "finally:  \n",
    "    print('finally always executes')"
   ]
  },
  {
   "cell_type": "code",
   "execution_count": 24,
   "id": "3e5b047c-2cda-4143-bb5a-624c0bbc3406",
   "metadata": {},
   "outputs": [
    {
     "name": "stdout",
     "output_type": "stream",
     "text": [
      "try suite that raises an exception\n",
      "a ValueError occurred\n",
      "finally always executes\n"
     ]
    }
   ],
   "source": [
    "try:\n",
    "    print('try suite that raises an exception')\n",
    "    int('hello')\n",
    "    print('this will not execute')\n",
    "except ValueError:\n",
    "    print('a ValueError occurred')\n",
    "else:\n",
    "    print('else will not execute because an exception occurred')\n",
    "finally:  \n",
    "    print('finally always executes')"
   ]
  },
  {
   "cell_type": "code",
   "execution_count": 26,
   "id": "6130d3a1-7788-485c-bac0-d8d106f51ca4",
   "metadata": {},
   "outputs": [
    {
     "name": "stdout",
     "output_type": "stream",
     "text": [
      "The file name you specified does not exist\n"
     ]
    }
   ],
   "source": [
    "# Combining with Statements and try…except Statements \n",
    "try:\n",
    "    with open('gradez.txt', 'r') as accounts:\n",
    "        print(f'{\"ID\":<3}{\"Name\":<7}{\"Grade\"}')\n",
    "        for record in accounts:  \n",
    "            student_id, name, grade = record.split()\n",
    "            print(f'{student_id:<3}{name:<7}{grade}')\n",
    "except FileNotFoundError:\n",
    "    print('The file name you specified does not exist')"
   ]
  },
  {
   "cell_type": "markdown",
   "id": "afe7c995-7486-4cd0-ab95-8b97370410b1",
   "metadata": {},
   "source": [
    "###### 9.9 Self Check DeeDee Walker"
   ]
  },
  {
   "cell_type": "code",
   "execution_count": 27,
   "id": "a8dee813-bfa8-4cda-83fc-eb6533c55437",
   "metadata": {},
   "outputs": [],
   "source": [
    "def try_it(value):\n",
    "    try:\n",
    "        x = int(value)\n",
    "    except ValueError:\n",
    "        print(f'{value} could not be converted to an integer')\n",
    "    else:\n",
    "        print(f'int({value}) is {x}')\n",
    "    finally:\n",
    "        print('finally executed') "
   ]
  },
  {
   "cell_type": "code",
   "execution_count": 28,
   "id": "665686c3-0f18-4e07-b9ea-8ffe15b73353",
   "metadata": {},
   "outputs": [
    {
     "name": "stdout",
     "output_type": "stream",
     "text": [
      "int(10.7) is 10\n",
      "finally executed\n"
     ]
    }
   ],
   "source": [
    "try_it(10.7)"
   ]
  },
  {
   "cell_type": "code",
   "execution_count": 29,
   "id": "2a078d70-707d-43ae-a813-f9f6748cb9c9",
   "metadata": {},
   "outputs": [
    {
     "name": "stdout",
     "output_type": "stream",
     "text": [
      "Python could not be converted to an integer\n",
      "finally executed\n"
     ]
    }
   ],
   "source": [
    "try_it('Python')"
   ]
  },
  {
   "cell_type": "markdown",
   "id": "cc9cb5db-34e1-442a-bc6d-219566ea9f6a",
   "metadata": {},
   "source": [
    "##### 9.12.1 csv module DeeDee Walker"
   ]
  },
  {
   "cell_type": "code",
   "execution_count": 31,
   "id": "f0320346-ba5e-48d2-82cf-72f45d13f11a",
   "metadata": {},
   "outputs": [],
   "source": [
    "import csv"
   ]
  },
  {
   "cell_type": "code",
   "execution_count": 32,
   "id": "5418a954-1b2f-435d-a2c8-26d908de4071",
   "metadata": {},
   "outputs": [],
   "source": [
    "with open('accounts.csv', mode='w', newline='') as accounts:\n",
    "    writer = csv.writer(accounts)\n",
    "    writer.writerow([100, 'Jones', 24.98])\n",
    "    writer.writerow([200, 'Doe', 345.67])\n",
    "    writer.writerow([300, 'White', 0.00])\n",
    "    writer.writerow([400, 'Stone', -42.16])\n",
    "    writer.writerow([500, 'Rich', 224.62]) "
   ]
  },
  {
   "cell_type": "code",
   "execution_count": 33,
   "id": "46872795-261b-4f66-a655-f9ba7ed7d1d9",
   "metadata": {},
   "outputs": [
    {
     "name": "stdout",
     "output_type": "stream",
     "text": [
      "Account   Name         Balance\n",
      "100       Jones          24.98\n",
      "200       Doe           345.67\n",
      "300       White            0.0\n",
      "400       Stone         -42.16\n",
      "500       Rich          224.62\n"
     ]
    }
   ],
   "source": [
    "with open('accounts.csv', 'r', newline='') as accounts:\n",
    "    print(f'{\"Account\":<10}{\"Name\":<10}{\"Balance\":>10}')\n",
    "    reader = csv.reader(accounts)\n",
    "    for record in reader:  \n",
    "        account, name, balance = record\n",
    "        print(f'{account:<10}{name:<10}{balance:>10}')"
   ]
  },
  {
   "cell_type": "markdown",
   "id": "cd507626-31af-43d2-a474-5b99400d92d4",
   "metadata": {},
   "source": [
    "###### 9.12.1 Self Check DeeDee Walker"
   ]
  },
  {
   "cell_type": "code",
   "execution_count": 35,
   "id": "6a6ad88c-3dca-4565-a063-53ac9efd5b72",
   "metadata": {},
   "outputs": [],
   "source": [
    "import csv"
   ]
  },
  {
   "cell_type": "code",
   "execution_count": 36,
   "id": "8486db2d-c8dd-4bb3-8a54-1210f17ce484",
   "metadata": {},
   "outputs": [],
   "source": [
    "with open('grades.csv', mode='w', newline='') as grades:\n",
    "    writer = csv.writer(grades)\n",
    "    writer.writerow([1, 'Red', 'A'])\n",
    "    writer.writerow([2, 'Green', 'B'])\n",
    "    writer.writerow([3, 'White', 'A'])"
   ]
  },
  {
   "cell_type": "code",
   "execution_count": 37,
   "id": "6e98006e-c1ab-4303-a389-16143f9bb646",
   "metadata": {},
   "outputs": [
    {
     "name": "stdout",
     "output_type": "stream",
     "text": [
      "ID        Name           Grade\n",
      "1         Red                A\n",
      "2         Green              B\n",
      "3         White              A\n"
     ]
    }
   ],
   "source": [
    "with open('grades.csv', 'r', newline='') as grades:\n",
    "    print(f'{\"ID\":<10}{\"Name\":<10}{\"Grade\":>10}')\n",
    "    reader = csv.reader(grades)\n",
    "    for record in reader:  \n",
    "        student_id, name, grade = record\n",
    "        print(f'{student_id:<10}{name:<10}{grade:>10}')"
   ]
  },
  {
   "cell_type": "markdown",
   "id": "e788828b-462e-455c-8aee-1fb5d6df18da",
   "metadata": {},
   "source": [
    "##### 9.12.2 DeeDee Walker"
   ]
  },
  {
   "cell_type": "code",
   "execution_count": 38,
   "id": "29bf2489-d12a-477f-b806-c2d9fcccfbef",
   "metadata": {},
   "outputs": [],
   "source": [
    "import pandas as pd"
   ]
  },
  {
   "cell_type": "code",
   "execution_count": 39,
   "id": "773d1274-efe0-47d5-97a7-12bb67a13647",
   "metadata": {},
   "outputs": [],
   "source": [
    "df = pd.read_csv('accounts.csv', \n",
    "                 names=['account', 'name', 'balance']) #names keyword argument specifies the DataFrame's column names. If this is not supplied, read_csv assumes the CSV's first row is comma-delimited"
   ]
  },
  {
   "cell_type": "code",
   "execution_count": 40,
   "id": "14a67b6e-3538-4447-ab0c-9ef5485ef9d6",
   "metadata": {},
   "outputs": [
    {
     "data": {
      "text/html": [
       "<div>\n",
       "<style scoped>\n",
       "    .dataframe tbody tr th:only-of-type {\n",
       "        vertical-align: middle;\n",
       "    }\n",
       "\n",
       "    .dataframe tbody tr th {\n",
       "        vertical-align: top;\n",
       "    }\n",
       "\n",
       "    .dataframe thead th {\n",
       "        text-align: right;\n",
       "    }\n",
       "</style>\n",
       "<table border=\"1\" class=\"dataframe\">\n",
       "  <thead>\n",
       "    <tr style=\"text-align: right;\">\n",
       "      <th></th>\n",
       "      <th>account</th>\n",
       "      <th>name</th>\n",
       "      <th>balance</th>\n",
       "    </tr>\n",
       "  </thead>\n",
       "  <tbody>\n",
       "    <tr>\n",
       "      <th>0</th>\n",
       "      <td>100</td>\n",
       "      <td>Jones</td>\n",
       "      <td>24.98</td>\n",
       "    </tr>\n",
       "    <tr>\n",
       "      <th>1</th>\n",
       "      <td>200</td>\n",
       "      <td>Doe</td>\n",
       "      <td>345.67</td>\n",
       "    </tr>\n",
       "    <tr>\n",
       "      <th>2</th>\n",
       "      <td>300</td>\n",
       "      <td>White</td>\n",
       "      <td>0.00</td>\n",
       "    </tr>\n",
       "    <tr>\n",
       "      <th>3</th>\n",
       "      <td>400</td>\n",
       "      <td>Stone</td>\n",
       "      <td>-42.16</td>\n",
       "    </tr>\n",
       "    <tr>\n",
       "      <th>4</th>\n",
       "      <td>500</td>\n",
       "      <td>Rich</td>\n",
       "      <td>224.62</td>\n",
       "    </tr>\n",
       "  </tbody>\n",
       "</table>\n",
       "</div>"
      ],
      "text/plain": [
       "   account   name  balance\n",
       "0      100  Jones    24.98\n",
       "1      200    Doe   345.67\n",
       "2      300  White     0.00\n",
       "3      400  Stone   -42.16\n",
       "4      500   Rich   224.62"
      ]
     },
     "execution_count": 40,
     "metadata": {},
     "output_type": "execute_result"
    }
   ],
   "source": [
    "df"
   ]
  },
  {
   "cell_type": "code",
   "execution_count": 41,
   "id": "59ce4c63-54a4-49a2-907d-6699f3519b0a",
   "metadata": {},
   "outputs": [],
   "source": [
    "df.to_csv('accounts_from_dataframe.csv', index=False) #saves dataframe to a file using csv format - index=false indicates row names are nto writtent to the file"
   ]
  },
  {
   "cell_type": "markdown",
   "id": "4332d1e2-cd2e-41d8-b515-6be96892f87f",
   "metadata": {},
   "source": [
    "###### 9.12.5 Self Check"
   ]
  },
  {
   "cell_type": "code",
   "execution_count": 2,
   "id": "18154b98-de09-4f0c-9fda-ff574af49913",
   "metadata": {},
   "outputs": [],
   "source": [
    "import pandas as pd"
   ]
  },
  {
   "cell_type": "code",
   "execution_count": 3,
   "id": "4e2ea944-2359-4dfe-b542-01fb37359602",
   "metadata": {},
   "outputs": [
    {
     "data": {
      "text/html": [
       "<div>\n",
       "<style scoped>\n",
       "    .dataframe tbody tr th:only-of-type {\n",
       "        vertical-align: middle;\n",
       "    }\n",
       "\n",
       "    .dataframe tbody tr th {\n",
       "        vertical-align: top;\n",
       "    }\n",
       "\n",
       "    .dataframe thead th {\n",
       "        text-align: right;\n",
       "    }\n",
       "</style>\n",
       "<table border=\"1\" class=\"dataframe\">\n",
       "  <thead>\n",
       "    <tr style=\"text-align: right;\">\n",
       "      <th></th>\n",
       "      <th>ID</th>\n",
       "      <th>Name</th>\n",
       "      <th>Grade</th>\n",
       "    </tr>\n",
       "  </thead>\n",
       "  <tbody>\n",
       "    <tr>\n",
       "      <th>0</th>\n",
       "      <td>1</td>\n",
       "      <td>Red</td>\n",
       "      <td>A</td>\n",
       "    </tr>\n",
       "    <tr>\n",
       "      <th>1</th>\n",
       "      <td>2</td>\n",
       "      <td>Green</td>\n",
       "      <td>B</td>\n",
       "    </tr>\n",
       "    <tr>\n",
       "      <th>2</th>\n",
       "      <td>3</td>\n",
       "      <td>White</td>\n",
       "      <td>A</td>\n",
       "    </tr>\n",
       "  </tbody>\n",
       "</table>\n",
       "</div>"
      ],
      "text/plain": [
       "   ID   Name Grade\n",
       "0   1    Red     A\n",
       "1   2  Green     B\n",
       "2   3  White     A"
      ]
     },
     "execution_count": 3,
     "metadata": {},
     "output_type": "execute_result"
    }
   ],
   "source": [
    "pd.read_csv('grades.csv', names=['ID', 'Name', 'Grade'])"
   ]
  }
 ],
 "metadata": {
  "kernelspec": {
   "display_name": "Python 3 (ipykernel)",
   "language": "python",
   "name": "python3"
  },
  "language_info": {
   "codemirror_mode": {
    "name": "ipython",
    "version": 3
   },
   "file_extension": ".py",
   "mimetype": "text/x-python",
   "name": "python",
   "nbconvert_exporter": "python",
   "pygments_lexer": "ipython3",
   "version": "3.9.12"
  }
 },
 "nbformat": 4,
 "nbformat_minor": 5
}
